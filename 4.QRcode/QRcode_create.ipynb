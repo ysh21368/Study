{
 "cells": [
  {
   "cell_type": "code",
   "execution_count": 41,
   "id": "6d9c6a8f-e661-41d0-9d34-e1456a80cfbb",
   "metadata": {
    "tags": []
   },
   "outputs": [
    {
     "name": "stdout",
     "output_type": "stream",
     "text": [
      "Collecting pyqrcode\n",
      "  Downloading PyQRCode-1.2.1.zip (41 kB)\n",
      "     ---------------------------------------- 0.0/41.9 kB ? eta -:--:--\n",
      "     ---------------------------------------- 41.9/41.9 kB 2.1 MB/s eta 0:00:00\n",
      "  Preparing metadata (setup.py): started\n",
      "  Preparing metadata (setup.py): finished with status 'done'\n",
      "Building wheels for collected packages: pyqrcode\n",
      "  Building wheel for pyqrcode (setup.py): started\n",
      "  Building wheel for pyqrcode (setup.py): finished with status 'done'\n",
      "  Created wheel for pyqrcode: filename=PyQRCode-1.2.1-py3-none-any.whl size=36239 sha256=f09e8bbe761363d95dd4cf5f1565273a8eeb42161d8175e9f28081d0da72dfe4\n",
      "  Stored in directory: c:\\users\\admin\\appdata\\local\\pip\\cache\\wheels\\f5\\db\\22\\ade11e0c0854d1bb2fcc673dc90f6495ee2c0d2b6eb41492e3\n",
      "Successfully built pyqrcode\n",
      "Installing collected packages: pyqrcode\n",
      "Successfully installed pyqrcode-1.2.1\n"
     ]
    }
   ],
   "source": [
    "# !pip install qrcode\n",
    "# !pip install pyqrcode"
   ]
  },
  {
   "cell_type": "code",
   "execution_count": 3,
   "id": "87b0108d-7058-48e5-9cc7-c31c08d23043",
   "metadata": {
    "tags": []
   },
   "outputs": [],
   "source": [
    "import qrcode"
   ]
  },
  {
   "cell_type": "code",
   "execution_count": 23,
   "id": "07f3ea31-2c05-447d-9ce7-e24818ceab27",
   "metadata": {
    "tags": []
   },
   "outputs": [
    {
     "data": {
      "text/plain": [
       "'C:\\\\Users\\\\admin\\\\Desktop\\\\Seunghyun\\\\Study'"
      ]
     },
     "execution_count": 23,
     "metadata": {},
     "output_type": "execute_result"
    }
   ],
   "source": [
    "pwd"
   ]
  },
  {
   "cell_type": "code",
   "execution_count": 39,
   "id": "227e34d0-1dc9-4c06-84ff-c7337826bf53",
   "metadata": {
    "tags": []
   },
   "outputs": [],
   "source": [
    "qr_data = 'www.naver.com'\n",
    "qr_img = qrcode.make(qr_data)\n",
    "\n",
    "save_path = qr_data + '.png'\n",
    "qr_img.save(save_path)"
   ]
  },
  {
   "cell_type": "markdown",
   "id": "cf327c42-7610-4cbd-af98-c51b751eb73f",
   "metadata": {},
   "source": [
    "- 내 이력서 웹사이트 qr코드로 만들기"
   ]
  },
  {
   "cell_type": "code",
   "execution_count": 42,
   "id": "9b590cee-3048-4d8d-b094-a2278e62dfdb",
   "metadata": {
    "tags": []
   },
   "outputs": [],
   "source": [
    "import pyqrcode"
   ]
  },
  {
   "cell_type": "code",
   "execution_count": 46,
   "id": "36428ad1-f771-4c90-9015-daf545926a0e",
   "metadata": {
    "tags": []
   },
   "outputs": [],
   "source": [
    "import pyqrcode\n",
    "\n",
    "my_qrcode = pyqrcode.create('https://data-specialist-yoon.oopy.io/')\n",
    "\n",
    "# Generate SVG file\n",
    "my_qrcode.svg('승현.svg', scale=8)\n",
    "\n",
    "# Generate EPS file\n",
    "my_qrcode.eps('승현.eps', scale=2)\n",
    "\n",
    "my_qrcode.png('윤승현_이력서.png', scale=2)"
   ]
  },
  {
   "cell_type": "code",
   "execution_count": null,
   "id": "b3e36df4-1bee-437b-8e79-b9c564c8872d",
   "metadata": {},
   "outputs": [],
   "source": []
  }
 ],
 "metadata": {
  "kernelspec": {
   "display_name": "Python 3 (ipykernel)",
   "language": "python",
   "name": "python3"
  },
  "language_info": {
   "codemirror_mode": {
    "name": "ipython",
    "version": 3
   },
   "file_extension": ".py",
   "mimetype": "text/x-python",
   "name": "python",
   "nbconvert_exporter": "python",
   "pygments_lexer": "ipython3",
   "version": "3.11.2"
  }
 },
 "nbformat": 4,
 "nbformat_minor": 5
}
