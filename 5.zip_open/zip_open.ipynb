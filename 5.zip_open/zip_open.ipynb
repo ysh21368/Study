{
 "cells": [
  {
   "cell_type": "code",
   "execution_count": 4,
   "id": "d6fe66ed-0270-49d9-9fc9-4af7e9c91a89",
   "metadata": {
    "tags": []
   },
   "outputs": [],
   "source": [
    "import itertools\n",
    "import zipfile"
   ]
  },
  {
   "cell_type": "markdown",
   "id": "d7136ebd-9a0f-4961-8da3-c6c38d5a982a",
   "metadata": {},
   "source": [
    "- zip 파일 압축 해제"
   ]
  },
  {
   "cell_type": "code",
   "execution_count": 9,
   "id": "ad145872-d544-4607-8b38-27b4e37bb6db",
   "metadata": {
    "tags": []
   },
   "outputs": [
    {
     "name": "stdout",
     "output_type": "stream",
     "text": [
      "압축 해제가 완료되었습니다.\n"
     ]
    }
   ],
   "source": [
    "import zipfile\n",
    "\n",
    "# 압축 해제할 zip 파일 경로\n",
    "zip_file_path = './zip_file.zip'\n",
    "\n",
    "# 압축 해제될 폴더 경로\n",
    "extracted_folder_path = './zip_open/'\n",
    "\n",
    "# Zip 파일 열기\n",
    "with zipfile.ZipFile(zip_file_path, 'r') as zip_ref:\n",
    "    # 압축 해제하기\n",
    "    zip_ref.extractall(extracted_folder_path)\n",
    "\n",
    "print('압축 해제가 완료되었습니다.')\n"
   ]
  },
  {
   "cell_type": "markdown",
   "id": "b7d8ffa9-933d-4c73-9c2e-0f8a98f6c15c",
   "metadata": {},
   "source": [
    "- 해제된 압축파일 읽기"
   ]
  },
  {
   "cell_type": "code",
   "execution_count": 17,
   "id": "ffa0f78f-6ef4-433c-962c-ae7706ad3ab8",
   "metadata": {
    "tags": []
   },
   "outputs": [
    {
     "name": "stdout",
     "output_type": "stream",
     "text": [
      "test\n"
     ]
    }
   ],
   "source": [
    "#압축파일을 해제뒤 안에 txt파일 읽기\n",
    "\n",
    "file_path = 'zip_open/╗⌡ ╞·┤⌡/test.txt'  # 읽어올 메모장 파일의 경로를 지정해 주세요.\n",
    "\n",
    "# 파일 열기 (읽기 모드 'r'로 열기)\n",
    "with open(file_path, 'r', encoding='utf-8') as file:\n",
    "    content = file.read()\n",
    "\n",
    "# 파일의 내용 출력\n",
    "print(content)"
   ]
  }
 ],
 "metadata": {
  "kernelspec": {
   "display_name": "Python 3 (ipykernel)",
   "language": "python",
   "name": "python3"
  },
  "language_info": {
   "codemirror_mode": {
    "name": "ipython",
    "version": 3
   },
   "file_extension": ".py",
   "mimetype": "text/x-python",
   "name": "python",
   "nbconvert_exporter": "python",
   "pygments_lexer": "ipython3",
   "version": "3.11.2"
  }
 },
 "nbformat": 4,
 "nbformat_minor": 5
}
