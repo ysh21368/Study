{
 "cells": [
  {
   "cell_type": "markdown",
   "id": "931da02e-7e8e-47fe-bbfb-e3a53220f504",
   "metadata": {},
   "source": [
    "# random 예시"
   ]
  },
  {
   "cell_type": "code",
   "execution_count": 1,
   "id": "587153fb-8d34-4287-ad5d-330b9fe370d3",
   "metadata": {
    "tags": []
   },
   "outputs": [],
   "source": [
    "import random"
   ]
  },
  {
   "cell_type": "code",
   "execution_count": 7,
   "id": "e1e0cee8-d7b4-426c-9e50-3992ce24d927",
   "metadata": {
    "tags": []
   },
   "outputs": [],
   "source": [
    "# 무작위 1~100숫자 생성\n",
    "random_number = random.randint(1,100)"
   ]
  },
  {
   "cell_type": "code",
   "execution_count": 8,
   "id": "90b49f42-53e4-4134-8947-cb9cce3dc938",
   "metadata": {
    "tags": []
   },
   "outputs": [
    {
     "name": "stdout",
     "output_type": "stream",
     "text": [
      "18\n"
     ]
    }
   ],
   "source": [
    "print(random_number)"
   ]
  },
  {
   "cell_type": "code",
   "execution_count": null,
   "id": "19e1e291-d8db-4ac4-9b33-557499eb68f3",
   "metadata": {},
   "outputs": [
    {
     "name": "stdin",
     "output_type": "stream",
     "text": [
      "1~100 사이의 숫자를 입력하시오 1\n"
     ]
    },
    {
     "name": "stdout",
     "output_type": "stream",
     "text": [
      "업\n"
     ]
    },
    {
     "name": "stdin",
     "output_type": "stream",
     "text": [
      "1~100 사이의 숫자를 입력하시오 2\n"
     ]
    },
    {
     "name": "stdout",
     "output_type": "stream",
     "text": [
      "업\n"
     ]
    },
    {
     "name": "stdin",
     "output_type": "stream",
     "text": [
      "1~100 사이의 숫자를 입력하시오 3\n"
     ]
    },
    {
     "name": "stdout",
     "output_type": "stream",
     "text": [
      "업\n"
     ]
    },
    {
     "name": "stdin",
     "output_type": "stream",
     "text": [
      "1~100 사이의 숫자를 입력하시오 34\n"
     ]
    },
    {
     "name": "stdout",
     "output_type": "stream",
     "text": [
      "다운\n"
     ]
    },
    {
     "name": "stdin",
     "output_type": "stream",
     "text": [
      "1~100 사이의 숫자를 입력하시오 '123413\n"
     ]
    },
    {
     "name": "stdout",
     "output_type": "stream",
     "text": [
      "에러가 발생하였습니다. 숫자를 입력하시오\n"
     ]
    },
    {
     "name": "stdin",
     "output_type": "stream",
     "text": [
      "1~100 사이의 숫자를 입력하시오 \n"
     ]
    },
    {
     "name": "stdout",
     "output_type": "stream",
     "text": [
      "에러가 발생하였습니다. 숫자를 입력하시오\n"
     ]
    },
    {
     "name": "stdin",
     "output_type": "stream",
     "text": [
      "1~100 사이의 숫자를 입력하시오 \n"
     ]
    },
    {
     "name": "stdout",
     "output_type": "stream",
     "text": [
      "에러가 발생하였습니다. 숫자를 입력하시오\n"
     ]
    },
    {
     "name": "stdin",
     "output_type": "stream",
     "text": [
      "1~100 사이의 숫자를 입력하시오 431\n"
     ]
    },
    {
     "name": "stdout",
     "output_type": "stream",
     "text": [
      "다운\n"
     ]
    },
    {
     "name": "stdin",
     "output_type": "stream",
     "text": [
      "1~100 사이의 숫자를 입력하시오 413\n"
     ]
    },
    {
     "name": "stdout",
     "output_type": "stream",
     "text": [
      "다운\n"
     ]
    },
    {
     "name": "stdin",
     "output_type": "stream",
     "text": [
      "1~100 사이의 숫자를 입력하시오 \n"
     ]
    },
    {
     "name": "stdout",
     "output_type": "stream",
     "text": [
      "에러가 발생하였습니다. 숫자를 입력하시오\n",
      "에러가 발생하였습니다. 숫자를 입력하시오\n"
     ]
    },
    {
     "name": "stdin",
     "output_type": "stream",
     "text": [
      "1~100 사이의 숫자를 입력하시오 ㅇㅁㄴ\n"
     ]
    },
    {
     "name": "stdout",
     "output_type": "stream",
     "text": [
      "에러가 발생하였습니다. 숫자를 입력하시오\n",
      "에러가 발생하였습니다. 숫자를 입력하시오\n",
      "에러가 발생하였습니다. 숫자를 입력하시오\n",
      "에러가 발생하였습니다. 숫자를 입력하시오\n",
      "에러가 발생하였습니다. 숫자를 입력하시오\n",
      "에러가 발생하였습니다. 숫자를 입력하시오\n",
      "에러가 발생하였습니다. 숫자를 입력하시오\n",
      "에러가 발생하였습니다. 숫자를 입력하시오\n",
      "에러가 발생하였습니다. 숫자를 입력하시오\n"
     ]
    }
   ],
   "source": [
    "game_count = 1\n",
    "while True:\n",
    "    try:\n",
    "        my_number = int(input('1~100 사이의 숫자를 입력하시오'))\n",
    "\n",
    "\n",
    "        if my_number > random_number:\n",
    "            print(\"다운\")\n",
    "        elif my_number < random_number:\n",
    "            print(\"업\")\n",
    "        elif my_number == random_number:\n",
    "            print(f\"축하합니다 {game_count}회 만에 맞췄습니다.\")\n",
    "        game_count += game_count\n",
    "        break\n",
    "    except:\n",
    "        print('에러가 발생하였습니다. 숫자를 입력하시오')"
   ]
  },
  {
   "cell_type": "markdown",
   "id": "2fd9b021-9db1-40f0-ae8c-d3b8dfdd8e0a",
   "metadata": {},
   "source": [
    "# -------------------------------------------------"
   ]
  },
  {
   "cell_type": "markdown",
   "id": "e8b973e1-3e1e-4b9c-bc59-240a9b080c57",
   "metadata": {},
   "source": [
    "# IP 정의\n",
    "- IP란 \"인터넷 프로토콜(Internet Protocol)\"의 약어로, 컴퓨터 네트워크에서 사용되는 주소 체계를 의미합니다."
   ]
  },
  {
   "cell_type": "markdown",
   "id": "2863f5c3-f9b1-4b06-9294-52631dfa2315",
   "metadata": {
    "tags": []
   },
   "source": [
    "- 호스트(Host):\n",
    "\n",
    "    - 호스트란 컴퓨터 또는 네트워크에 연결된 기기를 의미합니다.\n",
    "    - 인터넷이나 로컬 네트워크에 연결된 각각의 기기들은 호스트입니다.\n",
    "    - 호스트는 고유한 IP 주소를 가지며, 이를 통해 인터넷이나 네트워크에서 서로 통신할 수 있습니다.\n",
    "    - 호스트는 서버, 클라이언트, 라우터, 스마트폰, 데스크톱 컴퓨터 등 다양한 기기를 포함합니다.\n",
    "\n",
    "- 로컬 IP (Local IP):\n",
    "\n",
    "    - 로컬 IP는 컴퓨터나 기기가 로컬 네트워크(일반적으로 집이나 사무실 등)에서 사용하는 IP 주소입니다.\n",
    "    - 로컬 IP 주소는 공용 인터넷으로부터 할당된 공용 IP 주소와는 달리, 로컬 네트워크 내에서만 유효합니다.\n",
    "    - 로컬 IP 주소는 주로 사설 IP 주소 대역 (Private IP Address Range) 중 하나로 구성되며, 로컬 네트워크 내에서만 유니크하게 사용됩니다.\n",
    "    - 사설 IP 주소 대역에는 주로 192.168.x.x, 172.16.x.x ~ 172.31.x.x, 10.x.x.x 등이 포함됩니다."
   ]
  },
  {
   "cell_type": "code",
   "execution_count": 11,
   "id": "a6c3742a-f712-41bd-9644-74639a984898",
   "metadata": {
    "tags": []
   },
   "outputs": [
    {
     "name": "stdout",
     "output_type": "stream",
     "text": [
      "www.naver.com 의 IP 주소: 223.130.200.107\n",
      "www.google.com 의 IP 주소: 142.250.76.132\n"
     ]
    }
   ],
   "source": [
    "# 내부 IP 가져오기\n",
    "import socket\n",
    "\n",
    "hostname = \"www.naver.com\"\n",
    "host_name = 'www.google.com'\n",
    "\n",
    "try:\n",
    "    ip_address = socket.gethostbyname(hostname)\n",
    "    print(hostname, \"의 IP 주소:\", ip_address)\n",
    "    ip_address = socket.gethostbyname(host_name)\n",
    "    print(host_name, \"의 IP 주소:\", ip_address)\n",
    "except socket.gaierror:\n",
    "    print(\"오류: 호스트 이름을 해결할 수 없습니다.\")\n"
   ]
  },
  {
   "cell_type": "markdown",
   "id": "2e8d0469-d8f1-49b7-8a51-6b1ad294b4f8",
   "metadata": {
    "tags": []
   },
   "source": [
    "- 컴퓨터의 외부 및 내부 IP 확인"
   ]
  },
  {
   "cell_type": "code",
   "execution_count": 12,
   "id": "9680890e-6a19-4563-b45f-dd421c544096",
   "metadata": {
    "tags": []
   },
   "outputs": [
    {
     "data": {
      "text/plain": [
       "'123.215.215.130'"
      ]
     },
     "execution_count": 12,
     "metadata": {},
     "output_type": "execute_result"
    }
   ],
   "source": [
    "in_addr = socket.socket(socket.AF_INET, socket.SOCK_STREAM)\n",
    "in_addr.connect(('www.google.com',443))\n",
    "in_addr.getsockname()[0]"
   ]
  },
  {
   "cell_type": "code",
   "execution_count": 15,
   "id": "f89b37b7-7b78-462a-b135-efd6b75f9b9e",
   "metadata": {
    "tags": []
   },
   "outputs": [],
   "source": [
    "import socket\n",
    "import requests\n",
    "import re"
   ]
  },
  {
   "cell_type": "code",
   "execution_count": 19,
   "id": "bb5712e1-8e1f-4ff8-b51c-fb362275e680",
   "metadata": {
    "tags": []
   },
   "outputs": [
    {
     "name": "stdout",
     "output_type": "stream",
     "text": [
      "내부IP: 123.215.215.130\n",
      "외부IP: 123.215.215.130\n"
     ]
    }
   ],
   "source": [
    "in_addr = socket.socket(socket.AF_INET, socket.SOCK_STREAM)\n",
    "in_addr.connect(('www.google.co.kr',443))\n",
    "print(f\"내부IP: {in_addr.getsockname()[0]}\")\n",
    "\n",
    "req = requests.get(\"http://ipconfig.kr\")\n",
    "out_addr = re.search(r'IP Address : (\\d{1,3}\\.\\d{1,3}\\.\\d{1,3}\\.\\d{1,3})',req.text)[1]\n",
    "print(f\"외부IP: {out_addr}\")"
   ]
  },
  {
   "cell_type": "code",
   "execution_count": null,
   "id": "0997d4dc-c7df-4612-a426-65e7fb82536c",
   "metadata": {},
   "outputs": [],
   "source": []
  }
 ],
 "metadata": {
  "kernelspec": {
   "display_name": "Python 3 (ipykernel)",
   "language": "python",
   "name": "python3"
  },
  "language_info": {
   "codemirror_mode": {
    "name": "ipython",
    "version": 3
   },
   "file_extension": ".py",
   "mimetype": "text/x-python",
   "name": "python",
   "nbconvert_exporter": "python",
   "pygments_lexer": "ipython3",
   "version": "3.11.2"
  }
 },
 "nbformat": 4,
 "nbformat_minor": 5
}
