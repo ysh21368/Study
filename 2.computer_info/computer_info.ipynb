{
 "cells": [
  {
   "cell_type": "code",
   "execution_count": 1,
   "id": "c0672932-0fef-4a0c-a64b-122fce61057c",
   "metadata": {
    "tags": []
   },
   "outputs": [],
   "source": [
    "import psutil"
   ]
  },
  {
   "cell_type": "code",
   "execution_count": 17,
   "id": "daf42398-7a4d-4241-ad63-950d02d2ffb9",
   "metadata": {
    "tags": []
   },
   "outputs": [
    {
     "name": "stdout",
     "output_type": "stream",
     "text": [
      "cpu 속도: 2.9GHz\n",
      "코어: 6 개\n",
      "메모리: 16GB\n",
      "C:\\ NTFS 디스크 크기: 238GB\n",
      "보내기: 7.1MB 받기: 86.8MB\n"
     ]
    }
   ],
   "source": [
    "import psutil\n",
    "\n",
    "# CPU의 주파수 정보를 가져와서 출력합니다.\n",
    "cpu = psutil.cpu_freq()\n",
    "cpu_current_ghz = round(cpu.current / 1000, 2)\n",
    "print(f'cpu 속도: {cpu_current_ghz}GHz')\n",
    "\n",
    "# 물리적인 CPU 코어의 수를 가져와서 출력합니다.\n",
    "cpu_core = psutil.cpu_count(logical=False)\n",
    "print(f\"코어: {cpu_core} 개\")\n",
    "\n",
    "\n",
    "# 시스템의 메모리 정보를 가져와서 출력합니다.\n",
    "memory = psutil.virtual_memory()\n",
    "memory_total = round(memory.total / 1024**3)\n",
    "print(f'메모리: {memory_total}GB')\n",
    "\n",
    "# 시스템의 디스크 파티션 정보를 가져와서 출력합니다.\n",
    "disk = psutil.disk_partitions()\n",
    "for p in disk:\n",
    "    print(p.mountpoint, p.fstype, end=' ')\n",
    "    du = psutil.disk_usage(p.mountpoint)\n",
    "    disk_total = round(du.total/1024**3)\n",
    "    print(f'디스크 크기: {disk_total}GB')\n",
    "\n",
    "# 네트워크 입출력 정보를 가져와서 출력합니다.\n",
    "net = psutil.net_io_counters()\n",
    "sent = round(net.bytes_sent/1024**2, 1)\n",
    "recv = round(net.bytes_recv/1024**2, 1)\n",
    "print(f'보내기: {sent}MB 받기: {recv}MB')"
   ]
  },
  {
   "cell_type": "code",
   "execution_count": null,
   "id": "30ee08ab-915d-412e-b14d-58bb6a3312de",
   "metadata": {},
   "outputs": [],
   "source": []
  }
 ],
 "metadata": {
  "kernelspec": {
   "display_name": "Python 3 (ipykernel)",
   "language": "python",
   "name": "python3"
  },
  "language_info": {
   "codemirror_mode": {
    "name": "ipython",
    "version": 3
   },
   "file_extension": ".py",
   "mimetype": "text/x-python",
   "name": "python",
   "nbconvert_exporter": "python",
   "pygments_lexer": "ipython3",
   "version": "3.11.2"
  }
 },
 "nbformat": 4,
 "nbformat_minor": 5
}
